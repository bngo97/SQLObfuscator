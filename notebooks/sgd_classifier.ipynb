{
 "cells": [
  {
   "cell_type": "code",
   "execution_count": 46,
   "metadata": {},
   "outputs": [],
   "source": [
    "import pandas as pd\n",
    "import numpy as np\n",
    "import re\n",
    "import sklearn\n",
    "\n",
    "from sklearn.feature_extraction.text import CountVectorizer\n",
    "from scipy import sparse"
   ]
  },
  {
   "cell_type": "code",
   "execution_count": 54,
   "metadata": {},
   "outputs": [],
   "source": [
    "df = pd.read_csv('../data/all_data.csv')"
   ]
  },
  {
   "cell_type": "code",
   "execution_count": 55,
   "metadata": {},
   "outputs": [],
   "source": [
    "df_non_obf = df[df['is_obf'] == 0]\n",
    "df_obf = df[df['is_obf'] == 1]\n",
    "results = []"
   ]
  },
  {
   "cell_type": "markdown",
   "metadata": {},
   "source": [
    "## Non-obfuscated data"
   ]
  },
  {
   "cell_type": "code",
   "execution_count": 76,
   "metadata": {},
   "outputs": [
    {
     "name": "stdout",
     "output_type": "stream",
     "text": [
      "Number of features: 37275\n"
     ]
    }
   ],
   "source": [
    "count_vect = CountVectorizer(analyzer='word', ngram_range=(3,3))\n",
    "raw_counts = count_vect.fit_transform(df_non_obf['payload'])\n",
    "\n",
    "# Display features\n",
    "features = count_vect.get_feature_names()\n",
    "print('Number of features: ' + str(len(features)))"
   ]
  },
  {
   "cell_type": "code",
   "execution_count": 77,
   "metadata": {},
   "outputs": [],
   "source": [
    "# Append metadata to sparse matrix that will be used to train the classifier\n",
    "num_feats = df_non_obf[['length']].values\n",
    "non_obf_data = sparse.hstack((raw_counts, num_feats))\n",
    "non_obf_labels = df_non_obf['label'].values"
   ]
  },
  {
   "cell_type": "code",
   "execution_count": 78,
   "metadata": {},
   "outputs": [],
   "source": [
    "from sklearn.model_selection import train_test_split\n",
    "train_data, test_data, train_labels, test_labels = train_test_split(non_obf_data, non_obf_labels, test_size=0.3, random_state=0)"
   ]
  },
  {
   "cell_type": "code",
   "execution_count": 79,
   "metadata": {},
   "outputs": [],
   "source": [
    "from sklearn.linear_model import SGDClassifier\n",
    "classifier = SGDClassifier(loss='log', penalty='none', random_state=0).fit(train_data, train_labels)"
   ]
  },
  {
   "cell_type": "code",
   "execution_count": 80,
   "metadata": {},
   "outputs": [
    {
     "name": "stdout",
     "output_type": "stream",
     "text": [
      " precision = 0.952\n",
      "    recall = 0.9305598999061621\n",
      "F1-measure = 0.9411578614362542\n",
      "  accuracy = 0.958881397148226\n",
      "\n",
      "\n"
     ]
    }
   ],
   "source": [
    "# Run inference on the test data and predict labels for each data point in the test data\n",
    "predicted_labels = classifier.predict(test_data)\n",
    "\n",
    "# Calculate and print the following metrics: precision, recall, f1-measure, and accuracy\n",
    "from sklearn import metrics\n",
    "precision_non_obf = metrics.precision_score(test_labels, predicted_labels)\n",
    "recall_non_obf = metrics.recall_score(test_labels, predicted_labels)\n",
    "f1measure_non_obf = metrics.f1_score(test_labels, predicted_labels)\n",
    "accuracy_non_obf = metrics.accuracy_score(test_labels, predicted_labels)\n",
    "\n",
    "print(' precision = ' + str(precision_non_obf))\n",
    "print('    recall = ' + str(recall_non_obf))\n",
    "print('F1-measure = ' + str(f1measure_non_obf))\n",
    "print('  accuracy = ' + str(accuracy_non_obf))\n",
    "print('\\n')"
   ]
  },
  {
   "cell_type": "markdown",
   "metadata": {},
   "source": [
    "## Obfuscated data"
   ]
  },
  {
   "cell_type": "code",
   "execution_count": 82,
   "metadata": {},
   "outputs": [
    {
     "name": "stdout",
     "output_type": "stream",
     "text": [
      "Number of features: 2532857\n"
     ]
    }
   ],
   "source": [
    "count_vect = CountVectorizer(analyzer='word', ngram_range=(3,3))\n",
    "raw_counts = count_vect.fit_transform(df_obf['payload'])\n",
    "\n",
    "# Display features\n",
    "features = count_vect.get_feature_names()\n",
    "print('Number of features: ' + str(len(features)))"
   ]
  },
  {
   "cell_type": "code",
   "execution_count": 83,
   "metadata": {},
   "outputs": [],
   "source": [
    "# Append metadata to sparse matrix that will be used to train the classifier\n",
    "num_feats = df_obf[['length']].values\n",
    "obf_data = sparse.hstack((raw_counts, num_feats))\n",
    "obf_labels = df_obf['label'].values"
   ]
  },
  {
   "cell_type": "code",
   "execution_count": 84,
   "metadata": {},
   "outputs": [],
   "source": [
    "from sklearn.model_selection import train_test_split\n",
    "train_data, test_data, train_labels, test_labels = train_test_split(obf_data, obf_labels, test_size=0.3, random_state=0)"
   ]
  },
  {
   "cell_type": "code",
   "execution_count": 85,
   "metadata": {},
   "outputs": [],
   "source": [
    "from sklearn.linear_model import SGDClassifier\n",
    "classifier = SGDClassifier(loss='log', penalty='none', random_state=0).fit(train_data, train_labels)"
   ]
  },
  {
   "cell_type": "code",
   "execution_count": 86,
   "metadata": {},
   "outputs": [
    {
     "name": "stdout",
     "output_type": "stream",
     "text": [
      " precision = 0.353963684676705\n",
      "    recall = 1.0\n",
      "F1-measure = 0.5228555074004416\n",
      "  accuracy = 0.35503481817176963\n",
      "\n",
      "\n"
     ]
    }
   ],
   "source": [
    "# Run inference on the test data and predict labels for each data point in the test data\n",
    "predicted_labels = classifier.predict(test_data)\n",
    "\n",
    "# Calculate and print the following metrics: precision, recall, f1-measure, and accuracy\n",
    "from sklearn import metrics\n",
    "precision_obf = metrics.precision_score(test_labels, predicted_labels)\n",
    "recall_obf = metrics.recall_score(test_labels, predicted_labels)\n",
    "f1measure_obf = metrics.f1_score(test_labels, predicted_labels)\n",
    "accuracy_obf = metrics.accuracy_score(test_labels, predicted_labels)\n",
    "\n",
    "print(' precision = ' + str(precision_obf))\n",
    "print('    recall = ' + str(recall_obf))\n",
    "print('F1-measure = ' + str(f1measure_obf))\n",
    "print('  accuracy = ' + str(accuracy_obf))\n",
    "print('\\n')"
   ]
  },
  {
   "cell_type": "markdown",
   "metadata": {},
   "source": [
    "## All data"
   ]
  },
  {
   "cell_type": "code",
   "execution_count": 87,
   "metadata": {},
   "outputs": [
    {
     "name": "stdout",
     "output_type": "stream",
     "text": [
      "Number of features: 2551635\n"
     ]
    }
   ],
   "source": [
    "count_vect = CountVectorizer(analyzer='word', ngram_range=(3,3))\n",
    "raw_counts = count_vect.fit_transform(df['payload'])\n",
    "\n",
    "# Display features\n",
    "features = count_vect.get_feature_names()\n",
    "print('Number of features: ' + str(len(features)))"
   ]
  },
  {
   "cell_type": "code",
   "execution_count": 88,
   "metadata": {},
   "outputs": [],
   "source": [
    "# Append metadata to sparse matrix that will be used to train the classifier\n",
    "num_feats = df[['length']].values\n",
    "all_data = sparse.hstack((raw_counts, num_feats))\n",
    "all_labels = df['label'].values"
   ]
  },
  {
   "cell_type": "code",
   "execution_count": 89,
   "metadata": {},
   "outputs": [],
   "source": [
    "from sklearn.model_selection import train_test_split\n",
    "train_data, test_data, train_labels, test_labels = train_test_split(all_data, all_labels, test_size=0.3, random_state=0)"
   ]
  },
  {
   "cell_type": "code",
   "execution_count": 90,
   "metadata": {},
   "outputs": [],
   "source": [
    "from sklearn.linear_model import SGDClassifier\n",
    "classifier = SGDClassifier(loss='log', penalty='none', random_state=0).fit(train_data, train_labels)"
   ]
  },
  {
   "cell_type": "code",
   "execution_count": 91,
   "metadata": {},
   "outputs": [
    {
     "name": "stdout",
     "output_type": "stream",
     "text": [
      " precision = 0.868437697659709\n",
      "    recall = 0.8359208523592085\n",
      "F1-measure = 0.8518690863967737\n",
      "  accuracy = 0.8944401459047198\n",
      "\n",
      "\n"
     ]
    }
   ],
   "source": [
    "# Run inference on the test data and predict labels for each data point in the test data\n",
    "predicted_labels = classifier.predict(test_data)\n",
    "\n",
    "# Calculate and print the following metrics: precision, recall, f1-measure, and accuracy\n",
    "from sklearn import metrics\n",
    "precision = metrics.precision_score(test_labels, predicted_labels)\n",
    "recall = metrics.recall_score(test_labels, predicted_labels)\n",
    "f1measure = metrics.f1_score(test_labels, predicted_labels)\n",
    "accuracy = metrics.accuracy_score(test_labels, predicted_labels)\n",
    "\n",
    "print(' precision = ' + str(precision))\n",
    "print('    recall = ' + str(recall))\n",
    "print('F1-measure = ' + str(f1measure))\n",
    "print('  accuracy = ' + str(accuracy))\n",
    "print('\\n')"
   ]
  },
  {
   "cell_type": "code",
   "execution_count": 92,
   "metadata": {},
   "outputs": [],
   "source": [
    "g1 = 'Non-obfuscated data'\n",
    "g2 = 'Obfuscated data'\n",
    "g3 = 'All data'\n",
    "c1 = 'Precision'\n",
    "c2 = 'Recall'\n",
    "c3 = 'F1-measure'\n",
    "c4 = 'Accuracy'\n",
    "results = [[g1, c1, precision_non_obf], [g1, c2, recall_non_obf], [g1, c3, f1measure_non_obf], [g1, c4, accuracy_non_obf],\n",
    "           [g2, c1, precision_obf], [g2, c2, recall_obf], [g2, c3, f1measure_obf], [g2, c4, accuracy_obf],\n",
    "           [g3, c1, precision], [g3, c2, recall], [g3, c3, f1measure], [g3, c4, accuracy]]"
   ]
  },
  {
   "cell_type": "code",
   "execution_count": 107,
   "metadata": {},
   "outputs": [
    {
     "data": {
      "image/png": "[encoded data removed]",
      "text/plain": [
       "<Figure size 1080x720 with 1 Axes>"
      ]
     },
     "metadata": {
      "needs_background": "light"
     },
     "output_type": "display_data"
    }
   ],
   "source": [
    "import matplotlib.pyplot as plt\n",
    "from pylab import rcParams\n",
    "rcParams['figure.figsize'] = 15, 10\n",
    "\n",
    "plot_df= pd.DataFrame(results,columns=['Data Type','Measure','val'])\n",
    "\n",
    "plot_df.pivot('Measure','Data Type','val').plot(kind='bar')\n",
    "\n",
    "plt.show()"
   ]
  },
  {
   "cell_type": "code",
   "execution_count": null,
   "metadata": {},
   "outputs": [],
   "source": []
  }
 ],
 "metadata": {
  "kernelspec": {
   "display_name": "Python 3",
   "language": "python",
   "name": "python3"
  },
  "language_info": {
   "codemirror_mode": {
    "name": "ipython",
    "version": 3
   },
   "file_extension": ".py",
   "mimetype": "text/x-python",
   "name": "python",
   "nbconvert_exporter": "python",
   "pygments_lexer": "ipython3",
   "version": "3.6.2"
  }
 },
 "nbformat": 4,
 "nbformat_minor": 2
}
