{
 "cells": [
  {
   "cell_type": "code",
   "execution_count": 1,
   "metadata": {},
   "outputs": [],
   "source": [
    "import pandas as pd\n",
    "import numpy as np\n",
    "import re\n",
    "import sklearn\n",
    "\n",
    "from sklearn.feature_extraction.text import CountVectorizer\n",
    "from scipy import sparse"
   ]
  },
  {
   "cell_type": "code",
   "execution_count": 2,
   "metadata": {},
   "outputs": [
    {
     "data": {
      "text/html": [
       "<div>\n",
       "<style scoped>\n",
       "    .dataframe tbody tr th:only-of-type {\n",
       "        vertical-align: middle;\n",
       "    }\n",
       "\n",
       "    .dataframe tbody tr th {\n",
       "        vertical-align: top;\n",
       "    }\n",
       "\n",
       "    .dataframe thead th {\n",
       "        text-align: right;\n",
       "    }\n",
       "</style>\n",
       "<table border=\"1\" class=\"dataframe\">\n",
       "  <thead>\n",
       "    <tr style=\"text-align: right;\">\n",
       "      <th></th>\n",
       "      <th>payload</th>\n",
       "      <th>length</th>\n",
       "      <th>is_obf</th>\n",
       "      <th>label</th>\n",
       "    </tr>\n",
       "  </thead>\n",
       "  <tbody>\n",
       "    <tr>\n",
       "      <th>0</th>\n",
       "      <td>c/ caridad s/n OR 1123-398=1394-363 OR 960-75=...</td>\n",
       "      <td>233</td>\n",
       "      <td>1</td>\n",
       "      <td>0</td>\n",
       "    </tr>\n",
       "    <tr>\n",
       "      <th>1</th>\n",
       "      <td>campello , el AND 167-158=560-551 OR 772-763=8...</td>\n",
       "      <td>294</td>\n",
       "      <td>1</td>\n",
       "      <td>0</td>\n",
       "    </tr>\n",
       "    <tr>\n",
       "      <th>2</th>\n",
       "      <td>41159-975 AND 370-366=609-605 AND 987-979=624-...</td>\n",
       "      <td>748</td>\n",
       "      <td>1</td>\n",
       "      <td>0</td>\n",
       "    </tr>\n",
       "    <tr>\n",
       "      <th>3</th>\n",
       "      <td>1442431887503494-164 AND 649-648=369-368</td>\n",
       "      <td>40</td>\n",
       "      <td>1</td>\n",
       "      <td>0</td>\n",
       "    </tr>\n",
       "    <tr>\n",
       "      <th>4</th>\n",
       "      <td>nue836-799 OR 1610-645=2127-248 AND 931-927=88...</td>\n",
       "      <td>581</td>\n",
       "      <td>1</td>\n",
       "      <td>0</td>\n",
       "    </tr>\n",
       "    <tr>\n",
       "      <th>...</th>\n",
       "      <td>...</td>\n",
       "      <td>...</td>\n",
       "      <td>...</td>\n",
       "      <td>...</td>\n",
       "    </tr>\n",
       "    <tr>\n",
       "      <th>30151</th>\n",
       "      <td>170-169' and extractvalue 8981-999 , concat 37...</td>\n",
       "      <td>563</td>\n",
       "      <td>1</td>\n",
       "      <td>1</td>\n",
       "    </tr>\n",
       "    <tr>\n",
       "      <th>30152</th>\n",
       "      <td>409-408\" order by 810-809-- OR 954-431=1452-17...</td>\n",
       "      <td>959</td>\n",
       "      <td>1</td>\n",
       "      <td>1</td>\n",
       "    </tr>\n",
       "    <tr>\n",
       "      <th>30153</th>\n",
       "      <td>380-379' procedure analyse extractvalue 6547-7...</td>\n",
       "      <td>977</td>\n",
       "      <td>1</td>\n",
       "      <td>1</td>\n",
       "    </tr>\n",
       "    <tr>\n",
       "      <th>30154</th>\n",
       "      <td>875-874 rlike select * from select sleep 276-2...</td>\n",
       "      <td>100</td>\n",
       "      <td>1</td>\n",
       "      <td>1</td>\n",
       "    </tr>\n",
       "    <tr>\n",
       "      <th>30155</th>\n",
       "      <td>-7754-243 as xqzf where 10465-526=10131-192 un...</td>\n",
       "      <td>522</td>\n",
       "      <td>1</td>\n",
       "      <td>1</td>\n",
       "    </tr>\n",
       "  </tbody>\n",
       "</table>\n",
       "<p>30156 rows × 4 columns</p>\n",
       "</div>"
      ],
      "text/plain": [
       "                                                 payload  length  is_obf  \\\n",
       "0      c/ caridad s/n OR 1123-398=1394-363 OR 960-75=...     233       1   \n",
       "1      campello , el AND 167-158=560-551 OR 772-763=8...     294       1   \n",
       "2      41159-975 AND 370-366=609-605 AND 987-979=624-...     748       1   \n",
       "3               1442431887503494-164 AND 649-648=369-368      40       1   \n",
       "4      nue836-799 OR 1610-645=2127-248 AND 931-927=88...     581       1   \n",
       "...                                                  ...     ...     ...   \n",
       "30151  170-169' and extractvalue 8981-999 , concat 37...     563       1   \n",
       "30152  409-408\" order by 810-809-- OR 954-431=1452-17...     959       1   \n",
       "30153  380-379' procedure analyse extractvalue 6547-7...     977       1   \n",
       "30154  875-874 rlike select * from select sleep 276-2...     100       1   \n",
       "30155  -7754-243 as xqzf where 10465-526=10131-192 un...     522       1   \n",
       "\n",
       "       label  \n",
       "0          0  \n",
       "1          0  \n",
       "2          0  \n",
       "3          0  \n",
       "4          0  \n",
       "...      ...  \n",
       "30151      1  \n",
       "30152      1  \n",
       "30153      1  \n",
       "30154      1  \n",
       "30155      1  \n",
       "\n",
       "[30156 rows x 4 columns]"
      ]
     },
     "execution_count": 2,
     "metadata": {},
     "output_type": "execute_result"
    }
   ],
   "source": [
    "df = pd.read_csv('../data/obf_data.csv')\n",
    "df"
   ]
  },
  {
   "cell_type": "code",
   "execution_count": 3,
   "metadata": {},
   "outputs": [
    {
     "name": "stdout",
     "output_type": "stream",
     "text": [
      "Number of features: 2532857\n"
     ]
    }
   ],
   "source": [
    "count_vect = CountVectorizer(analyzer='word', ngram_range=(3,3))\n",
    "raw_counts = count_vect.fit_transform(df['payload'])\n",
    "\n",
    "# Display features\n",
    "features = count_vect.get_feature_names()\n",
    "print('Number of features: ' + str(len(features)))"
   ]
  },
  {
   "cell_type": "code",
   "execution_count": 4,
   "metadata": {},
   "outputs": [],
   "source": [
    "num_feats = df[['length']].values\n",
    "all_data = sparse.hstack((raw_counts, num_feats))\n",
    "all_labels = df['label'].values"
   ]
  },
  {
   "cell_type": "code",
   "execution_count": 5,
   "metadata": {},
   "outputs": [],
   "source": [
    "from sklearn.model_selection import train_test_split\n",
    "train_data, test_data, train_labels, test_labels = train_test_split(all_data, all_labels, test_size=0.3)"
   ]
  },
  {
   "cell_type": "code",
   "execution_count": 6,
   "metadata": {},
   "outputs": [
    {
     "name": "stderr",
     "output_type": "stream",
     "text": [
      "/Library/Frameworks/Python.framework/Versions/3.6/lib/python3.6/site-packages/sklearn/ensemble/forest.py:245: FutureWarning: The default value of n_estimators will change from 10 in version 0.20 to 100 in 0.22.\n",
      "  \"10 in version 0.20 to 100 in 0.22.\", FutureWarning)\n"
     ]
    }
   ],
   "source": [
    "from sklearn.ensemble import RandomForestClassifier\n",
    "classifier = RandomForestClassifier().fit(train_data, train_labels)\n",
    "classifier_type = 'Random Forest'"
   ]
  },
  {
   "cell_type": "code",
   "execution_count": 7,
   "metadata": {},
   "outputs": [
    {
     "name": "stdout",
     "output_type": "stream",
     "text": [
      " precision = 0.99915611814346\n",
      "    recall = 0.7261576203618522\n",
      "F1-measure = 0.8410584265672172\n",
      "  accuracy = 0.9010721786227479\n",
      "\n",
      "\n"
     ]
    }
   ],
   "source": [
    "# Run inference on the test data and predict labels for each data point in the test data\n",
    "predicted_labels = classifier.predict(test_data)\n",
    "\n",
    "# Calculate and print the following metrics: precision, recall, f1-measure, and accuracy\n",
    "from sklearn import metrics\n",
    "precision = metrics.precision_score(test_labels, predicted_labels)\n",
    "recall = metrics.recall_score(test_labels, predicted_labels)\n",
    "f1measure = metrics.f1_score(test_labels, predicted_labels)\n",
    "accuracy = metrics.accuracy_score(test_labels, predicted_labels)\n",
    "\n",
    "print(' precision = ' + str(precision))\n",
    "print('    recall = ' + str(recall))\n",
    "print('F1-measure = ' + str(f1measure))\n",
    "print('  accuracy = ' + str(accuracy))\n",
    "print('\\n')"
   ]
  },
  {
   "cell_type": "code",
   "execution_count": 8,
   "metadata": {},
   "outputs": [
    {
     "name": "stdout",
     "output_type": "stream",
     "text": [
      "union all select\n",
      "select case when\n",
      "null null null\n",
      "select count from\n",
      "select from select\n",
      "from domain domains\n",
      "all select null\n",
      "select null null\n",
      "from dual chr\n",
      "dbms_pipe receive_message chr\n"
     ]
    }
   ],
   "source": [
    "for i in np.argsort(classifier.feature_importances_)[::-1][0:10]:\n",
    "    if(i == 2532857):\n",
    "        print('string length')\n",
    "        continue\n",
    "    print(features[i])"
   ]
  },
  {
   "cell_type": "code",
   "execution_count": 10,
   "metadata": {},
   "outputs": [
    {
     "name": "stdout",
     "output_type": "stream",
     "text": [
      "['union all select', 'select case when', 'null null null', 'select count from', 'select from select', 'from domain domains', 'all select null', 'select null null', 'from dual chr', 'dbms_pipe receive_message chr']\n"
     ]
    },
    {
     "data": {
      "image/png": "[encoded data removed]",
      "text/plain": [
       "<Figure size 432x288 with 1 Axes>"
      ]
     },
     "metadata": {
      "needs_background": "light"
     },
     "output_type": "display_data"
    }
   ],
   "source": [
    "import matplotlib.pyplot as plt\n",
    "indices = np.argsort(classifier.feature_importances_)[::-1][0:10]\n",
    "features.append('string length')\n",
    "names = [features[i] for i in indices]\n",
    "print(names)\n",
    "plt.figure()\n",
    "# Create plot title\n",
    "plt.title(\"Feature Importance\")\n",
    "# Add bars\n",
    "plt.bar(range(10), classifier.feature_importances_[indices])\n",
    "# Add feature names as x-axis labels\n",
    "plt.xticks(range(10), names, rotation=90)\n",
    "\n",
    "# Show plot\n",
    "plt.show()"
   ]
  },
  {
   "cell_type": "code",
   "execution_count": 11,
   "metadata": {},
   "outputs": [],
   "source": [
    "g1 = 'Non-obfuscated data'\n",
    "g2 = 'Obfuscated data'\n",
    "g3 = 'All data'\n",
    "c1 = 'Precision'\n",
    "c2 = 'Recall'\n",
    "c3 = 'F1-measure'\n",
    "c4 = 'Accuracy'\n",
    "results = [[g1, c1, 0.869615832363213], [g1, c2, 0.9346262120738192], [g1, c3, 0.9009497964721846], [g1, c4, 0.9273792417375926],\n",
    "           [g2, c1, 0.9977457168620378], [g2, c2, 0.6734631771150335], [g2, c3, 0.8041424418604651], [g2, c4, 0.8808444788327623],\n",
    "           [g3, c1, 0.99915611814346], [g3, c2, 0.7261576203618522], [g3, c3, 0.8410584265672172], [g3, c4, 0.9010721786227479]]"
   ]
  },
  {
   "cell_type": "code",
   "execution_count": 14,
   "metadata": {},
   "outputs": [
    {
     "data": {
      "image/png": "[encoded data removed]",
      "text/plain": [
       "<Figure size 1080x720 with 1 Axes>"
      ]
     },
     "metadata": {
      "needs_background": "light"
     },
     "output_type": "display_data"
    }
   ],
   "source": [
    "import matplotlib.pyplot as plt\n",
    "from pylab import rcParams\n",
    "rcParams['figure.figsize'] = 15, 10\n",
    "\n",
    "plot_df= pd.DataFrame(results,columns=['Data Type','Measure','val'])\n",
    "\n",
    "plot_df.pivot('Measure','Data Type','val').plot(kind='bar')\n",
    "plt.title('Random Forest', fontdict={'fontsize': 30})\n",
    "plt.show()"
   ]
  },
  {
   "cell_type": "code",
   "execution_count": null,
   "metadata": {},
   "outputs": [],
   "source": []
  }
 ],
 "metadata": {
  "kernelspec": {
   "display_name": "Python 3",
   "language": "python",
   "name": "python3"
  },
  "language_info": {
   "codemirror_mode": {
    "name": "ipython",
    "version": 3
   },
   "file_extension": ".py",
   "mimetype": "text/x-python",
   "name": "python",
   "nbconvert_exporter": "python",
   "pygments_lexer": "ipython3",
   "version": "3.6.2"
  }
 },
 "nbformat": 4,
 "nbformat_minor": 2
}
