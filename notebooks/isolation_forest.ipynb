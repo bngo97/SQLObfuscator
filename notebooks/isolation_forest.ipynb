{
 "cells": [
  {
   "cell_type": "code",
   "execution_count": 1,
   "metadata": {},
   "outputs": [],
   "source": [
    "import pandas as pd\n",
    "import numpy as np\n",
    "import re"
   ]
  },
  {
   "cell_type": "code",
   "execution_count": 3,
   "metadata": {},
   "outputs": [],
   "source": [
    "df = pd.read_csv('../data/all_data.csv')"
   ]
  },
  {
   "cell_type": "code",
   "execution_count": 69,
   "metadata": {},
   "outputs": [],
   "source": [
    "def clean_string(query):\n",
    "    return re.sub('\\s+', ' ', query.replace('(', ' ').replace(')', ' ').replace(',', ' , ')).strip()"
   ]
  },
  {
   "cell_type": "code",
   "execution_count": 7,
   "metadata": {},
   "outputs": [
    {
     "data": {
      "text/html": [
       "<div>\n",
       "<style scoped>\n",
       "    .dataframe tbody tr th:only-of-type {\n",
       "        vertical-align: middle;\n",
       "    }\n",
       "\n",
       "    .dataframe tbody tr th {\n",
       "        vertical-align: top;\n",
       "    }\n",
       "\n",
       "    .dataframe thead th {\n",
       "        text-align: right;\n",
       "    }\n",
       "</style>\n",
       "<table border=\"1\" class=\"dataframe\">\n",
       "  <thead>\n",
       "    <tr style=\"text-align: right;\">\n",
       "      <th></th>\n",
       "      <th>payload</th>\n",
       "      <th>length</th>\n",
       "      <th>is_obf</th>\n",
       "      <th>label</th>\n",
       "    </tr>\n",
       "  </thead>\n",
       "  <tbody>\n",
       "    <tr>\n",
       "      <th>436</th>\n",
       "      <td>1' where 6406=6406;select count * from rdb$fie...</td>\n",
       "      <td>115</td>\n",
       "      <td>0</td>\n",
       "      <td>1</td>\n",
       "    </tr>\n",
       "    <tr>\n",
       "      <th>437</th>\n",
       "      <td>1 and 8514= select count * from domain.domains...</td>\n",
       "      <td>111</td>\n",
       "      <td>0</td>\n",
       "      <td>1</td>\n",
       "    </tr>\n",
       "    <tr>\n",
       "      <th>438</th>\n",
       "      <td>-3136%' or 3400=6002</td>\n",
       "      <td>21</td>\n",
       "      <td>0</td>\n",
       "      <td>1</td>\n",
       "    </tr>\n",
       "    <tr>\n",
       "      <th>439</th>\n",
       "      <td>1 where 7956=7956 or sleep 5 #</td>\n",
       "      <td>31</td>\n",
       "      <td>0</td>\n",
       "      <td>1</td>\n",
       "    </tr>\n",
       "    <tr>\n",
       "      <th>440</th>\n",
       "      <td>-7387' order by 1--</td>\n",
       "      <td>22</td>\n",
       "      <td>0</td>\n",
       "      <td>1</td>\n",
       "    </tr>\n",
       "    <tr>\n",
       "      <th>...</th>\n",
       "      <td>...</td>\n",
       "      <td>...</td>\n",
       "      <td>...</td>\n",
       "      <td>...</td>\n",
       "    </tr>\n",
       "    <tr>\n",
       "      <th>30151</th>\n",
       "      <td>1' and extractvalue 7982 , concat 0x5c , 0x717...</td>\n",
       "      <td>111</td>\n",
       "      <td>0</td>\n",
       "      <td>1</td>\n",
       "    </tr>\n",
       "    <tr>\n",
       "      <th>30152</th>\n",
       "      <td>1\" order by 1--</td>\n",
       "      <td>15</td>\n",
       "      <td>0</td>\n",
       "      <td>1</td>\n",
       "    </tr>\n",
       "    <tr>\n",
       "      <th>30153</th>\n",
       "      <td>1' procedure analyse extractvalue 5840 , conca...</td>\n",
       "      <td>149</td>\n",
       "      <td>0</td>\n",
       "      <td>1</td>\n",
       "    </tr>\n",
       "    <tr>\n",
       "      <th>30154</th>\n",
       "      <td>1 rlike select * from select sleep 5 sgvo -- saxs</td>\n",
       "      <td>53</td>\n",
       "      <td>0</td>\n",
       "      <td>1</td>\n",
       "    </tr>\n",
       "    <tr>\n",
       "      <th>30155</th>\n",
       "      <td>-7511 as xqzf where 9939=9939 union all select...</td>\n",
       "      <td>85</td>\n",
       "      <td>0</td>\n",
       "      <td>1</td>\n",
       "    </tr>\n",
       "  </tbody>\n",
       "</table>\n",
       "<p>10852 rows × 4 columns</p>\n",
       "</div>"
      ],
      "text/plain": [
       "                                                 payload  length  is_obf  \\\n",
       "436    1' where 6406=6406;select count * from rdb$fie...     115       0   \n",
       "437    1 and 8514= select count * from domain.domains...     111       0   \n",
       "438                                 -3136%' or 3400=6002      21       0   \n",
       "439                       1 where 7956=7956 or sleep 5 #      31       0   \n",
       "440                                  -7387' order by 1--      22       0   \n",
       "...                                                  ...     ...     ...   \n",
       "30151  1' and extractvalue 7982 , concat 0x5c , 0x717...     111       0   \n",
       "30152                                    1\" order by 1--      15       0   \n",
       "30153  1' procedure analyse extractvalue 5840 , conca...     149       0   \n",
       "30154  1 rlike select * from select sleep 5 sgvo -- saxs      53       0   \n",
       "30155  -7511 as xqzf where 9939=9939 union all select...      85       0   \n",
       "\n",
       "       label  \n",
       "436        1  \n",
       "437        1  \n",
       "438        1  \n",
       "439        1  \n",
       "440        1  \n",
       "...      ...  \n",
       "30151      1  \n",
       "30152      1  \n",
       "30153      1  \n",
       "30154      1  \n",
       "30155      1  \n",
       "\n",
       "[10852 rows x 4 columns]"
      ]
     },
     "execution_count": 7,
     "metadata": {},
     "output_type": "execute_result"
    }
   ],
   "source": [
    "benign = df.loc[df.label == 0 ].loc[df.is_obf == 0]\n",
    "malicious = df.loc[df.label == 1].loc[df.is_obf == 0]\n",
    "malicious"
   ]
  },
  {
   "cell_type": "code",
   "execution_count": 99,
   "metadata": {},
   "outputs": [],
   "source": [
    "data = benign.append(malicious.iloc[0])"
   ]
  },
  {
   "cell_type": "code",
   "execution_count": 94,
   "metadata": {},
   "outputs": [],
   "source": [
    "from sklearn.feature_extraction.text import CountVectorizer\n",
    "from scipy import sparse\n",
    "\n",
    "count_vect = CountVectorizer(analyzer='word', ngram_range=(3,3))\n",
    "raw_counts = count_vect.fit_transform(data['payload'])\n",
    "\n",
    "# Append metadata to sparse matrix that will be used to train the classifier\n",
    "num_feats = data[['length']].values\n",
    "train_data = sparse.hstack((raw_counts, num_feats))"
   ]
  },
  {
   "cell_type": "code",
   "execution_count": 101,
   "metadata": {},
   "outputs": [
    {
     "name": "stderr",
     "output_type": "stream",
     "text": [
      "/Library/Frameworks/Python.framework/Versions/3.6/lib/python3.6/site-packages/sklearn/ensemble/iforest.py:237: FutureWarning: default contamination parameter 0.1 will change in version 0.22 to \"auto\". This will change the predict method behavior.\n",
      "  FutureWarning)\n",
      "/Library/Frameworks/Python.framework/Versions/3.6/lib/python3.6/site-packages/sklearn/ensemble/iforest.py:247: FutureWarning: behaviour=\"old\" is deprecated and will be removed in version 0.22. Please use behaviour=\"new\", which makes the decision_function change to match other anomaly detection algorithm API.\n",
      "  FutureWarning)\n"
     ]
    }
   ],
   "source": [
    "from sklearn.ensemble import IsolationForest\n",
    "\n",
    "score = IsolationForest(random_state = 42).fit(train_data).decision_function(train_data)\n",
    "ranked_index = np.argsort(score) \n",
    "malicious_rank = ranked_index.tolist().index(19304)"
   ]
  },
  {
   "cell_type": "code",
   "execution_count": 103,
   "metadata": {},
   "outputs": [
    {
     "data": {
      "text/plain": [
       "135"
      ]
     },
     "execution_count": 103,
     "metadata": {},
     "output_type": "execute_result"
    }
   ],
   "source": [
    "malicious_rank"
   ]
  },
  {
   "cell_type": "code",
   "execution_count": 109,
   "metadata": {},
   "outputs": [
    {
     "name": "stdout",
     "output_type": "stream",
     "text": [
      "Anamoly rank of the malicious datapoint:\n",
      "datapoint 0: 135\n",
      "datapoint 1: 18\n",
      "datapoint 2: 4890\n",
      "datapoint 3: 1439\n",
      "datapoint 4: 3048\n",
      "datapoint 5: 20\n",
      "datapoint 6: 37\n",
      "datapoint 7: 43\n",
      "datapoint 8: 43\n",
      "datapoint 9: 57\n",
      "datapoint 10: 388\n",
      "datapoint 11: 128\n",
      "datapoint 12: 647\n",
      "datapoint 13: 64\n",
      "datapoint 14: 19\n",
      "Average rank = 731\n"
     ]
    }
   ],
   "source": [
    "import warnings\n",
    "warnings.filterwarnings('ignore')\n",
    "\n",
    "samples = 15\n",
    "\n",
    "dataset = [benign.append(malicious.iloc[i]) for i in range(samples)]\n",
    "count_vect = CountVectorizer(analyzer='word', ngram_range=(3,3))\n",
    "raw_counts = [count_vect.fit_transform(data['payload']) for data in dataset]\n",
    "\n",
    "# Append metadata to sparse matrix that will be used to train the classifier\n",
    "lengths = [data[['length']].values for data in dataset]\n",
    "train_data = [sparse.hstack((raw_counts[i], lengths[i])) for i in range(samples)]\n",
    "scores = [IsolationForest(random_state = 42).fit(data).decision_function(data) for data in train_data]\n",
    "ranked_indexes = [np.argsort(score) for score in scores]\n",
    "malicious_rank = [l.tolist().index(19304) for l in ranked_indexes]\n",
    "print('Anamoly rank of the malicious datapoint:')\n",
    "for i in range(15):\n",
    "    print('datapoint %d: %d' % (i, malicious_rank[i]))\n",
    "\n",
    "print('Average rank = %d' % (sum(malicious_rank)/len(malicious_rank)))"
   ]
  },
  {
   "cell_type": "code",
   "execution_count": 113,
   "metadata": {},
   "outputs": [
    {
     "name": "stdout",
     "output_type": "stream",
     "text": [
      "Anamoly rank of the malicious datapoint:\n",
      "datapoint 0: 135\n",
      "datapoint 1: 18\n",
      "datapoint 2: 4890\n",
      "datapoint 3: 1439\n",
      "datapoint 4: 3048\n",
      "datapoint 5: 20\n",
      "datapoint 6: 37\n",
      "datapoint 7: 43\n",
      "datapoint 8: 43\n",
      "datapoint 9: 57\n",
      "datapoint 10: 388\n",
      "datapoint 11: 128\n",
      "datapoint 12: 647\n",
      "datapoint 13: 64\n",
      "datapoint 14: 19\n",
      "Average rank = 505\n"
     ]
    }
   ],
   "source": [
    "import warnings\n",
    "warnings.filterwarnings('ignore')\n",
    "\n",
    "samples = 100\n",
    "\n",
    "dataset = [benign.append(malicious.iloc[i]) for i in range(samples)]\n",
    "count_vect = CountVectorizer(analyzer='word', ngram_range=(3,3))\n",
    "raw_counts = [count_vect.fit_transform(data['payload']) for data in dataset]\n",
    "\n",
    "# Append metadata to sparse matrix that will be used to train the classifier\n",
    "lengths = [data[['length']].values for data in dataset]\n",
    "train_data = [sparse.hstack((raw_counts[i], lengths[i])) for i in range(samples)]\n",
    "scores = [IsolationForest(random_state = 42).fit(data).decision_function(data) for data in train_data]\n",
    "ranked_indexes = [np.argsort(score) for score in scores]\n",
    "malicious_rank = [l.tolist().index(19304) for l in ranked_indexes]\n",
    "print('Anamoly rank of the malicious datapoint:')\n",
    "for i in range(15):\n",
    "    print('datapoint %d: %d' % (i, malicious_rank[i]))\n",
    "\n",
    "print('Average rank = %d' % (sum(malicious_rank)/len(malicious_rank)))"
   ]
  },
  {
   "cell_type": "code",
   "execution_count": 114,
   "metadata": {},
   "outputs": [
    {
     "data": {
      "text/plain": [
       "array([    3,    10,    10,    10,    11,    11,    14,    14,    14,\n",
       "          15,    15,    16,    16,    16,    17,    18,    18,    19,\n",
       "          19,    20,    21,    21,    22,    23,    23,    23,    24,\n",
       "          26,    26,    27,    27,    27,    29,    29,    30,    31,\n",
       "          35,    37,    38,    40,    42,    42,    42,    42,    43,\n",
       "          43,    43,    48,    48,    48,    48,    54,    57,    64,\n",
       "          66,    73,    73,    74,    76,    78,    80,    82,   104,\n",
       "         108,   114,   128,   135,   140,   144,   146,   146,   161,\n",
       "         175,   178,   201,   224,   266,   292,   335,   388,   389,\n",
       "         414,   416,   452,   499,   506,   539,   647,   695,   787,\n",
       "        1328,  1439,  1439,  1452,  1932,  2260,  3048,  4890,  4890,\n",
       "       17067])"
      ]
     },
     "execution_count": 114,
     "metadata": {},
     "output_type": "execute_result"
    }
   ],
   "source": [
    "np.sort(malicious_rank)"
   ]
  },
  {
   "cell_type": "code",
   "execution_count": null,
   "metadata": {},
   "outputs": [],
   "source": []
  }
 ],
 "metadata": {
  "kernelspec": {
   "display_name": "Python 3",
   "language": "python",
   "name": "python3"
  },
  "language_info": {
   "codemirror_mode": {
    "name": "ipython",
    "version": 3
   },
   "file_extension": ".py",
   "mimetype": "text/x-python",
   "name": "python",
   "nbconvert_exporter": "python",
   "pygments_lexer": "ipython3",
   "version": "3.6.2"
  }
 },
 "nbformat": 4,
 "nbformat_minor": 2
}
